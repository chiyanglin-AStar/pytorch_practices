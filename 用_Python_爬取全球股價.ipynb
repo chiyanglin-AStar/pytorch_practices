{
  "nbformat": 4,
  "nbformat_minor": 0,
  "metadata": {
    "colab": {
      "provenance": [],
      "include_colab_link": true
    },
    "kernelspec": {
      "name": "python3",
      "display_name": "Python 3"
    }
  },
  "cells": [
    {
      "cell_type": "markdown",
      "metadata": {
        "id": "view-in-github",
        "colab_type": "text"
      },
      "source": [
        "<a href=\"https://colab.research.google.com/github/chiyanglin-AStar/pytorch_practices/blob/master/%E7%94%A8_Python_%E7%88%AC%E5%8F%96%E5%85%A8%E7%90%83%E8%82%A1%E5%83%B9.ipynb\" target=\"_parent\"><img src=\"https://colab.research.google.com/assets/colab-badge.svg\" alt=\"Open In Colab\"/></a>"
      ]
    },
    {
      "cell_type": "markdown",
      "metadata": {
        "id": "MR-P8IQQ0Y6U"
      },
      "source": [
        "原文連結：\n",
        "[用 Python 爬取全球股價](https://www.finlab.tw/%E7%94%A8%E7%88%AC%E8%9F%B2%E7%88%AC%E5%85%A8%E4%B8%96%E7%95%8C%E8%82%A1%E5%83%B9/)"
      ]
    },
    {
      "cell_type": "markdown",
      "metadata": {
        "id": "PuwoFOVS0tKn"
      },
      "source": [
        "### 下載台積電資料"
      ]
    },
    {
      "cell_type": "code",
      "metadata": {
        "id": "mMZJWzmM0WB7"
      },
      "source": [
        "!pip install yfinance -q"
      ],
      "execution_count": null,
      "outputs": []
    },
    {
      "cell_type": "markdown",
      "metadata": {
        "id": "NCkurpf801Xg"
      },
      "source": [
        "### 整裡資料"
      ]
    },
    {
      "cell_type": "code",
      "metadata": {
        "id": "9LNZ1eTosbhf",
        "outputId": "29f25f2c-7b31-4c9c-b432-086a64b3d53b",
        "colab": {
          "base_uri": "https://localhost:8080/",
          "height": 42
        }
      },
      "source": [
        "import pandas as pd\n",
        "pd.__version__"
      ],
      "execution_count": null,
      "outputs": [
        {
          "output_type": "execute_result",
          "data": {
            "text/plain": [
              "'1.5.3'"
            ],
            "application/vnd.google.colaboratory.intrinsic+json": {
              "type": "string"
            }
          },
          "metadata": {},
          "execution_count": 2
        }
      ]
    },
    {
      "cell_type": "code",
      "metadata": {
        "id": "vOPgE2kh0rTa",
        "colab": {
          "base_uri": "https://localhost:8080/",
          "height": 455
        },
        "outputId": "ab993efc-2c5a-4199-ebd2-76fa536799fa"
      },
      "source": [
        "import yfinance as yf\n",
        "\n",
        "df = yf.Ticker(\"2359.TW\").history(period=\"max\")\n",
        "df"
      ],
      "execution_count": null,
      "outputs": [
        {
          "output_type": "execute_result",
          "data": {
            "text/plain": [
              "                                Open       High        Low      Close  \\\n",
              "Date                                                                    \n",
              "2000-01-04 00:00:00+08:00  48.009818  50.721672  47.407188  50.721672   \n",
              "2000-01-05 00:00:00+08:00  49.415971  52.228260  49.415971  52.228260   \n",
              "2000-01-06 00:00:00+08:00  52.730455  55.241429  51.726065  52.228260   \n",
              "2000-01-07 00:00:00+08:00  51.223870  52.228260  50.219480  52.228260   \n",
              "2000-01-10 00:00:00+08:00  55.743626  55.743626  54.739236  55.743626   \n",
              "...                              ...        ...        ...        ...   \n",
              "2023-04-26 00:00:00+08:00  33.250000  33.500000  32.549999  32.900002   \n",
              "2023-04-27 00:00:00+08:00  33.500000  33.500000  32.549999  32.849998   \n",
              "2023-04-28 00:00:00+08:00  33.299999  33.950001  33.250000  33.650002   \n",
              "2023-05-02 00:00:00+08:00  34.000000  34.500000  33.650002  34.500000   \n",
              "2023-05-03 00:00:00+08:00  34.049999  34.299999  33.400002  33.450001   \n",
              "\n",
              "                             Volume  Dividends  Stock Splits  \n",
              "Date                                                          \n",
              "2000-01-04 00:00:00+08:00  16551477        0.0           0.0  \n",
              "2000-01-05 00:00:00+08:00  13720075        0.0           0.0  \n",
              "2000-01-06 00:00:00+08:00  14857695        0.0           0.0  \n",
              "2000-01-07 00:00:00+08:00   6352882        0.0           0.0  \n",
              "2000-01-10 00:00:00+08:00  12622080        0.0           0.0  \n",
              "...                             ...        ...           ...  \n",
              "2023-04-26 00:00:00+08:00   3192330        0.0           0.0  \n",
              "2023-04-27 00:00:00+08:00   2512100        0.0           0.0  \n",
              "2023-04-28 00:00:00+08:00   2997796        0.0           0.0  \n",
              "2023-05-02 00:00:00+08:00   2821326        0.0           0.0  \n",
              "2023-05-03 00:00:00+08:00   3505127        0.0           0.0  \n",
              "\n",
              "[5743 rows x 7 columns]"
            ],
            "text/html": [
              "\n",
              "  <div id=\"df-201ad0d6-94e4-4e01-9282-846ca52b3e32\">\n",
              "    <div class=\"colab-df-container\">\n",
              "      <div>\n",
              "<style scoped>\n",
              "    .dataframe tbody tr th:only-of-type {\n",
              "        vertical-align: middle;\n",
              "    }\n",
              "\n",
              "    .dataframe tbody tr th {\n",
              "        vertical-align: top;\n",
              "    }\n",
              "\n",
              "    .dataframe thead th {\n",
              "        text-align: right;\n",
              "    }\n",
              "</style>\n",
              "<table border=\"1\" class=\"dataframe\">\n",
              "  <thead>\n",
              "    <tr style=\"text-align: right;\">\n",
              "      <th></th>\n",
              "      <th>Open</th>\n",
              "      <th>High</th>\n",
              "      <th>Low</th>\n",
              "      <th>Close</th>\n",
              "      <th>Volume</th>\n",
              "      <th>Dividends</th>\n",
              "      <th>Stock Splits</th>\n",
              "    </tr>\n",
              "    <tr>\n",
              "      <th>Date</th>\n",
              "      <th></th>\n",
              "      <th></th>\n",
              "      <th></th>\n",
              "      <th></th>\n",
              "      <th></th>\n",
              "      <th></th>\n",
              "      <th></th>\n",
              "    </tr>\n",
              "  </thead>\n",
              "  <tbody>\n",
              "    <tr>\n",
              "      <th>2000-01-04 00:00:00+08:00</th>\n",
              "      <td>48.009818</td>\n",
              "      <td>50.721672</td>\n",
              "      <td>47.407188</td>\n",
              "      <td>50.721672</td>\n",
              "      <td>16551477</td>\n",
              "      <td>0.0</td>\n",
              "      <td>0.0</td>\n",
              "    </tr>\n",
              "    <tr>\n",
              "      <th>2000-01-05 00:00:00+08:00</th>\n",
              "      <td>49.415971</td>\n",
              "      <td>52.228260</td>\n",
              "      <td>49.415971</td>\n",
              "      <td>52.228260</td>\n",
              "      <td>13720075</td>\n",
              "      <td>0.0</td>\n",
              "      <td>0.0</td>\n",
              "    </tr>\n",
              "    <tr>\n",
              "      <th>2000-01-06 00:00:00+08:00</th>\n",
              "      <td>52.730455</td>\n",
              "      <td>55.241429</td>\n",
              "      <td>51.726065</td>\n",
              "      <td>52.228260</td>\n",
              "      <td>14857695</td>\n",
              "      <td>0.0</td>\n",
              "      <td>0.0</td>\n",
              "    </tr>\n",
              "    <tr>\n",
              "      <th>2000-01-07 00:00:00+08:00</th>\n",
              "      <td>51.223870</td>\n",
              "      <td>52.228260</td>\n",
              "      <td>50.219480</td>\n",
              "      <td>52.228260</td>\n",
              "      <td>6352882</td>\n",
              "      <td>0.0</td>\n",
              "      <td>0.0</td>\n",
              "    </tr>\n",
              "    <tr>\n",
              "      <th>2000-01-10 00:00:00+08:00</th>\n",
              "      <td>55.743626</td>\n",
              "      <td>55.743626</td>\n",
              "      <td>54.739236</td>\n",
              "      <td>55.743626</td>\n",
              "      <td>12622080</td>\n",
              "      <td>0.0</td>\n",
              "      <td>0.0</td>\n",
              "    </tr>\n",
              "    <tr>\n",
              "      <th>...</th>\n",
              "      <td>...</td>\n",
              "      <td>...</td>\n",
              "      <td>...</td>\n",
              "      <td>...</td>\n",
              "      <td>...</td>\n",
              "      <td>...</td>\n",
              "      <td>...</td>\n",
              "    </tr>\n",
              "    <tr>\n",
              "      <th>2023-04-26 00:00:00+08:00</th>\n",
              "      <td>33.250000</td>\n",
              "      <td>33.500000</td>\n",
              "      <td>32.549999</td>\n",
              "      <td>32.900002</td>\n",
              "      <td>3192330</td>\n",
              "      <td>0.0</td>\n",
              "      <td>0.0</td>\n",
              "    </tr>\n",
              "    <tr>\n",
              "      <th>2023-04-27 00:00:00+08:00</th>\n",
              "      <td>33.500000</td>\n",
              "      <td>33.500000</td>\n",
              "      <td>32.549999</td>\n",
              "      <td>32.849998</td>\n",
              "      <td>2512100</td>\n",
              "      <td>0.0</td>\n",
              "      <td>0.0</td>\n",
              "    </tr>\n",
              "    <tr>\n",
              "      <th>2023-04-28 00:00:00+08:00</th>\n",
              "      <td>33.299999</td>\n",
              "      <td>33.950001</td>\n",
              "      <td>33.250000</td>\n",
              "      <td>33.650002</td>\n",
              "      <td>2997796</td>\n",
              "      <td>0.0</td>\n",
              "      <td>0.0</td>\n",
              "    </tr>\n",
              "    <tr>\n",
              "      <th>2023-05-02 00:00:00+08:00</th>\n",
              "      <td>34.000000</td>\n",
              "      <td>34.500000</td>\n",
              "      <td>33.650002</td>\n",
              "      <td>34.500000</td>\n",
              "      <td>2821326</td>\n",
              "      <td>0.0</td>\n",
              "      <td>0.0</td>\n",
              "    </tr>\n",
              "    <tr>\n",
              "      <th>2023-05-03 00:00:00+08:00</th>\n",
              "      <td>34.049999</td>\n",
              "      <td>34.299999</td>\n",
              "      <td>33.400002</td>\n",
              "      <td>33.450001</td>\n",
              "      <td>3505127</td>\n",
              "      <td>0.0</td>\n",
              "      <td>0.0</td>\n",
              "    </tr>\n",
              "  </tbody>\n",
              "</table>\n",
              "<p>5743 rows × 7 columns</p>\n",
              "</div>\n",
              "      <button class=\"colab-df-convert\" onclick=\"convertToInteractive('df-201ad0d6-94e4-4e01-9282-846ca52b3e32')\"\n",
              "              title=\"Convert this dataframe to an interactive table.\"\n",
              "              style=\"display:none;\">\n",
              "        \n",
              "  <svg xmlns=\"http://www.w3.org/2000/svg\" height=\"24px\"viewBox=\"0 0 24 24\"\n",
              "       width=\"24px\">\n",
              "    <path d=\"M0 0h24v24H0V0z\" fill=\"none\"/>\n",
              "    <path d=\"M18.56 5.44l.94 2.06.94-2.06 2.06-.94-2.06-.94-.94-2.06-.94 2.06-2.06.94zm-11 1L8.5 8.5l.94-2.06 2.06-.94-2.06-.94L8.5 2.5l-.94 2.06-2.06.94zm10 10l.94 2.06.94-2.06 2.06-.94-2.06-.94-.94-2.06-.94 2.06-2.06.94z\"/><path d=\"M17.41 7.96l-1.37-1.37c-.4-.4-.92-.59-1.43-.59-.52 0-1.04.2-1.43.59L10.3 9.45l-7.72 7.72c-.78.78-.78 2.05 0 2.83L4 21.41c.39.39.9.59 1.41.59.51 0 1.02-.2 1.41-.59l7.78-7.78 2.81-2.81c.8-.78.8-2.07 0-2.86zM5.41 20L4 18.59l7.72-7.72 1.47 1.35L5.41 20z\"/>\n",
              "  </svg>\n",
              "      </button>\n",
              "      \n",
              "  <style>\n",
              "    .colab-df-container {\n",
              "      display:flex;\n",
              "      flex-wrap:wrap;\n",
              "      gap: 12px;\n",
              "    }\n",
              "\n",
              "    .colab-df-convert {\n",
              "      background-color: #E8F0FE;\n",
              "      border: none;\n",
              "      border-radius: 50%;\n",
              "      cursor: pointer;\n",
              "      display: none;\n",
              "      fill: #1967D2;\n",
              "      height: 32px;\n",
              "      padding: 0 0 0 0;\n",
              "      width: 32px;\n",
              "    }\n",
              "\n",
              "    .colab-df-convert:hover {\n",
              "      background-color: #E2EBFA;\n",
              "      box-shadow: 0px 1px 2px rgba(60, 64, 67, 0.3), 0px 1px 3px 1px rgba(60, 64, 67, 0.15);\n",
              "      fill: #174EA6;\n",
              "    }\n",
              "\n",
              "    [theme=dark] .colab-df-convert {\n",
              "      background-color: #3B4455;\n",
              "      fill: #D2E3FC;\n",
              "    }\n",
              "\n",
              "    [theme=dark] .colab-df-convert:hover {\n",
              "      background-color: #434B5C;\n",
              "      box-shadow: 0px 1px 3px 1px rgba(0, 0, 0, 0.15);\n",
              "      filter: drop-shadow(0px 1px 2px rgba(0, 0, 0, 0.3));\n",
              "      fill: #FFFFFF;\n",
              "    }\n",
              "  </style>\n",
              "\n",
              "      <script>\n",
              "        const buttonEl =\n",
              "          document.querySelector('#df-201ad0d6-94e4-4e01-9282-846ca52b3e32 button.colab-df-convert');\n",
              "        buttonEl.style.display =\n",
              "          google.colab.kernel.accessAllowed ? 'block' : 'none';\n",
              "\n",
              "        async function convertToInteractive(key) {\n",
              "          const element = document.querySelector('#df-201ad0d6-94e4-4e01-9282-846ca52b3e32');\n",
              "          const dataTable =\n",
              "            await google.colab.kernel.invokeFunction('convertToInteractive',\n",
              "                                                     [key], {});\n",
              "          if (!dataTable) return;\n",
              "\n",
              "          const docLinkHtml = 'Like what you see? Visit the ' +\n",
              "            '<a target=\"_blank\" href=https://colab.research.google.com/notebooks/data_table.ipynb>data table notebook</a>'\n",
              "            + ' to learn more about interactive tables.';\n",
              "          element.innerHTML = '';\n",
              "          dataTable['output_type'] = 'display_data';\n",
              "          await google.colab.output.renderOutput(dataTable, element);\n",
              "          const docLink = document.createElement('div');\n",
              "          docLink.innerHTML = docLinkHtml;\n",
              "          element.appendChild(docLink);\n",
              "        }\n",
              "      </script>\n",
              "    </div>\n",
              "  </div>\n",
              "  "
            ]
          },
          "metadata": {},
          "execution_count": 3
        }
      ]
    },
    {
      "cell_type": "markdown",
      "metadata": {
        "id": "uTEf_qb107YC"
      },
      "source": [
        "### 繪製股價"
      ]
    },
    {
      "cell_type": "code",
      "metadata": {
        "id": "BDnjao7000dL",
        "colab": {
          "base_uri": "https://localhost:8080/",
          "height": 439
        },
        "outputId": "f9d143a0-8000-4ff2-cdd8-091bd10a7779"
      },
      "source": [
        "df.Close.plot()"
      ],
      "execution_count": null,
      "outputs": [
        {
          "output_type": "execute_result",
          "data": {
            "text/plain": [
              "<Axes: xlabel='Date'>"
            ]
          },
          "metadata": {},
          "execution_count": 4
        },
        {
          "output_type": "display_data",
          "data": {
            "text/plain": [
              "<Figure size 640x480 with 1 Axes>"
            ],
            "image/png": "[encoded data removed]"
          },
          "metadata": {}
        }
      ]
    },
    {
      "cell_type": "code",
      "metadata": {
        "id": "XQkMFdN508zi"
      },
      "source": [],
      "execution_count": null,
      "outputs": []
    }
  ]
}