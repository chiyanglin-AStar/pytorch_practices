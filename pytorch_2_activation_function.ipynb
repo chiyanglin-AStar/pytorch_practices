{
  "cells": [
    {
      "cell_type": "markdown",
      "metadata": {
        "id": "view-in-github",
        "colab_type": "text"
      },
      "source": [
        "<a href=\"https://colab.research.google.com/github/chiyanglin-AStar/pytorch_practices/blob/master/pytorch_2_activation_function.ipynb\" target=\"_parent\"><img src=\"https://colab.research.google.com/assets/colab-badge.svg\" alt=\"Open In Colab\"/></a>"
      ]
    },
    {
      "cell_type": "code",
      "execution_count": null,
      "metadata": {
        "colab": {
          "base_uri": "https://localhost:8080/"
        },
        "id": "kX2CLOjoPSzI",
        "outputId": "06fde706-3528-420b-e17e-36bdec3a0093"
      },
      "outputs": [
        {
          "output_type": "stream",
          "name": "stdout",
          "text": [
            "Looking in indexes: https://pypi.org/simple, https://us-python.pkg.dev/colab-wheels/public/simple/\n",
            "Requirement already satisfied: torch in /usr/local/lib/python3.7/dist-packages (1.12.1+cu113)\n",
            "Requirement already satisfied: torchvision in /usr/local/lib/python3.7/dist-packages (0.13.1+cu113)\n",
            "Requirement already satisfied: matplotlib in /usr/local/lib/python3.7/dist-packages (3.2.2)\n",
            "Requirement already satisfied: numpy in /usr/local/lib/python3.7/dist-packages (1.21.6)\n",
            "Requirement already satisfied: typing-extensions in /usr/local/lib/python3.7/dist-packages (from torch) (4.1.1)\n",
            "Requirement already satisfied: pillow!=8.3.*,>=5.3.0 in /usr/local/lib/python3.7/dist-packages (from torchvision) (7.1.2)\n",
            "Requirement already satisfied: requests in /usr/local/lib/python3.7/dist-packages (from torchvision) (2.23.0)\n",
            "Requirement already satisfied: pyparsing!=2.0.4,!=2.1.2,!=2.1.6,>=2.0.1 in /usr/local/lib/python3.7/dist-packages (from matplotlib) (3.0.9)\n",
            "Requirement already satisfied: kiwisolver>=1.0.1 in /usr/local/lib/python3.7/dist-packages (from matplotlib) (1.4.4)\n",
            "Requirement already satisfied: cycler>=0.10 in /usr/local/lib/python3.7/dist-packages (from matplotlib) (0.11.0)\n",
            "Requirement already satisfied: python-dateutil>=2.1 in /usr/local/lib/python3.7/dist-packages (from matplotlib) (2.8.2)\n",
            "Requirement already satisfied: six>=1.5 in /usr/local/lib/python3.7/dist-packages (from python-dateutil>=2.1->matplotlib) (1.15.0)\n",
            "Requirement already satisfied: chardet<4,>=3.0.2 in /usr/local/lib/python3.7/dist-packages (from requests->torchvision) (3.0.4)\n",
            "Requirement already satisfied: certifi>=2017.4.17 in /usr/local/lib/python3.7/dist-packages (from requests->torchvision) (2022.9.24)\n",
            "Requirement already satisfied: urllib3!=1.25.0,!=1.25.1,<1.26,>=1.21.1 in /usr/local/lib/python3.7/dist-packages (from requests->torchvision) (1.24.3)\n",
            "Requirement already satisfied: idna<3,>=2.5 in /usr/local/lib/python3.7/dist-packages (from requests->torchvision) (2.10)\n"
          ]
        }
      ],
      "source": [
        "!pip install torch torchvision matplotlib numpy"
      ]
    },
    {
      "cell_type": "markdown",
      "metadata": {
        "id": "f1JGXZUAJfw3"
      },
      "source": [
        "### ==================================================== #\n",
        "### Table of Contents                  #\n",
        "### ==================================================== #\n",
        "\n",
        "ref : \n",
        "1. https://mofanpy.com/tutorials/machine-learning/torch/torch-numpy\n",
        "\n",
        "2. https://mofanpy.com/tutorials/machine-learning/torch/variable"
      ]
    },
    {
      "cell_type": "markdown",
      "source": [
        "### Activation function "
      ],
      "metadata": {
        "id": "V-bBtesIooHX"
      }
    },
    {
      "cell_type": "code",
      "execution_count": 1,
      "metadata": {
        "id": "HEGW7o-8JNmj"
      },
      "outputs": [],
      "source": [
        "import torch\n",
        "import torch.nn.functional as F     # 激励函数都在这\n",
        "from torch.autograd import Variable\n",
        "\n",
        "# 做一些假数据来观看图像\n",
        "x = torch.linspace(-5, 5, 200)  # x data (tensor), shape=(100, 1)\n",
        "x = Variable(x)"
      ]
    },
    {
      "cell_type": "markdown",
      "source": [
        "### Generating Activation function data"
      ],
      "metadata": {
        "id": "XHJfMv_L2_NU"
      }
    },
    {
      "cell_type": "code",
      "source": [
        "x_np = x.data.numpy()   # 换成 numpy array, 出图时用\n",
        "\n",
        "# 几种常用的 激励函数\n",
        "y_relu = F.relu(x).data.numpy()\n",
        "y_sigmoid = F.sigmoid(x).data.numpy()\n",
        "y_tanh = F.tanh(x).data.numpy()\n",
        "y_softplus = F.softplus(x).data.numpy()\n",
        "# y_softmax = F.softmax(x)  softmax 比较特殊, 不能直接显示, 不过他是关于概率的, 用于分类"
      ],
      "metadata": {
        "colab": {
          "base_uri": "https://localhost:8080/"
        },
        "id": "vHIch_5z3B6v",
        "outputId": "e030c82b-8188-4858-fc8f-6691ec26823c"
      },
      "execution_count": 2,
      "outputs": [
        {
          "output_type": "stream",
          "name": "stderr",
          "text": [
            "/usr/local/lib/python3.7/dist-packages/torch/nn/functional.py:1960: UserWarning: nn.functional.sigmoid is deprecated. Use torch.sigmoid instead.\n",
            "  warnings.warn(\"nn.functional.sigmoid is deprecated. Use torch.sigmoid instead.\")\n",
            "/usr/local/lib/python3.7/dist-packages/torch/nn/functional.py:1949: UserWarning: nn.functional.tanh is deprecated. Use torch.tanh instead.\n",
            "  warnings.warn(\"nn.functional.tanh is deprecated. Use torch.tanh instead.\")\n"
          ]
        }
      ]
    },
    {
      "cell_type": "markdown",
      "source": [
        "### Activation function plot"
      ],
      "metadata": {
        "id": "BAtfm5ge3NuL"
      }
    },
    {
      "cell_type": "code",
      "source": [
        "import matplotlib.pyplot as plt  # python 的可视化模块, 我有教程 (https://mofanpy.com/tutorials/data-manipulation/plt/)\n",
        "\n",
        "plt.figure(1, figsize=(8, 6))\n",
        "plt.subplot(221)\n",
        "plt.plot(x_np, y_relu, c='red', label='relu')\n",
        "plt.ylim((-1, 5))\n",
        "plt.legend(loc='best')\n",
        "\n",
        "plt.subplot(222)\n",
        "plt.plot(x_np, y_sigmoid, c='red', label='sigmoid')\n",
        "plt.ylim((-0.2, 1.2))\n",
        "plt.legend(loc='best')\n",
        "\n",
        "plt.subplot(223)\n",
        "plt.plot(x_np, y_tanh, c='red', label='tanh')\n",
        "plt.ylim((-1.2, 1.2))\n",
        "plt.legend(loc='best')\n",
        "\n",
        "plt.subplot(224)\n",
        "plt.plot(x_np, y_softplus, c='red', label='softplus')\n",
        "plt.ylim((-0.2, 6))\n",
        "plt.legend(loc='best')\n",
        "\n",
        "plt.show()\n"
      ],
      "metadata": {
        "id": "kS4KLDqU3PyS",
        "colab": {
          "base_uri": "https://localhost:8080/",
          "height": 378
        },
        "outputId": "ab86ea00-61a6-4c83-e531-78d209a87d73"
      },
      "execution_count": 3,
      "outputs": [
        {
          "output_type": "display_data",
          "data": {
            "text/plain": [
              "<Figure size 576x432 with 4 Axes>"
            ],
            "image/png": "[encoded data removed]"
          },
          "metadata": {
            "needs_background": "light"
          }
        }
      ]
    }
  ],
  "metadata": {
    "colab": {
      "provenance": [],
      "toc_visible": true,
      "include_colab_link": true
    },
    "kernelspec": {
      "display_name": "Python 3.8.13 64-bit ('shims')",
      "language": "python",
      "name": "python3"
    },
    "language_info": {
      "name": "python",
      "version": "3.8.13"
    },
    "vscode": {
      "interpreter": {
        "hash": "9ac03a0a6051494cc606d484d27d20fce22fb7b4d169f583271e11d5ba46a56e"
      }
    }
  },
  "nbformat": 4,
  "nbformat_minor": 0
}