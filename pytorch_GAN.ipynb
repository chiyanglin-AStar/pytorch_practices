{
  "cells": [
    {
      "cell_type": "markdown",
      "metadata": {
        "id": "view-in-github",
        "colab_type": "text"
      },
      "source": [
        "<a href=\"https://colab.research.google.com/github/chiyanglin-AStar/pytorch_practices/blob/master/pytorch_GAN.ipynb\" target=\"_parent\"><img src=\"https://colab.research.google.com/assets/colab-badge.svg\" alt=\"Open In Colab\"/></a>"
      ]
    },
    {
      "cell_type": "code",
      "execution_count": 1,
      "metadata": {
        "colab": {
          "base_uri": "https://localhost:8080/"
        },
        "id": "kX2CLOjoPSzI",
        "outputId": "06fde706-3528-420b-e17e-36bdec3a0093"
      },
      "outputs": [
        {
          "output_type": "stream",
          "name": "stdout",
          "text": [
            "Looking in indexes: https://pypi.org/simple, https://us-python.pkg.dev/colab-wheels/public/simple/\n",
            "Requirement already satisfied: torch in /usr/local/lib/python3.7/dist-packages (1.12.1+cu113)\n",
            "Requirement already satisfied: torchvision in /usr/local/lib/python3.7/dist-packages (0.13.1+cu113)\n",
            "Requirement already satisfied: matplotlib in /usr/local/lib/python3.7/dist-packages (3.2.2)\n",
            "Requirement already satisfied: numpy in /usr/local/lib/python3.7/dist-packages (1.21.6)\n",
            "Requirement already satisfied: typing-extensions in /usr/local/lib/python3.7/dist-packages (from torch) (4.1.1)\n",
            "Requirement already satisfied: pillow!=8.3.*,>=5.3.0 in /usr/local/lib/python3.7/dist-packages (from torchvision) (7.1.2)\n",
            "Requirement already satisfied: requests in /usr/local/lib/python3.7/dist-packages (from torchvision) (2.23.0)\n",
            "Requirement already satisfied: pyparsing!=2.0.4,!=2.1.2,!=2.1.6,>=2.0.1 in /usr/local/lib/python3.7/dist-packages (from matplotlib) (3.0.9)\n",
            "Requirement already satisfied: kiwisolver>=1.0.1 in /usr/local/lib/python3.7/dist-packages (from matplotlib) (1.4.4)\n",
            "Requirement already satisfied: cycler>=0.10 in /usr/local/lib/python3.7/dist-packages (from matplotlib) (0.11.0)\n",
            "Requirement already satisfied: python-dateutil>=2.1 in /usr/local/lib/python3.7/dist-packages (from matplotlib) (2.8.2)\n",
            "Requirement already satisfied: six>=1.5 in /usr/local/lib/python3.7/dist-packages (from python-dateutil>=2.1->matplotlib) (1.15.0)\n",
            "Requirement already satisfied: chardet<4,>=3.0.2 in /usr/local/lib/python3.7/dist-packages (from requests->torchvision) (3.0.4)\n",
            "Requirement already satisfied: certifi>=2017.4.17 in /usr/local/lib/python3.7/dist-packages (from requests->torchvision) (2022.9.24)\n",
            "Requirement already satisfied: urllib3!=1.25.0,!=1.25.1,<1.26,>=1.21.1 in /usr/local/lib/python3.7/dist-packages (from requests->torchvision) (1.24.3)\n",
            "Requirement already satisfied: idna<3,>=2.5 in /usr/local/lib/python3.7/dist-packages (from requests->torchvision) (2.10)\n"
          ]
        }
      ],
      "source": [
        "!pip install torch torchvision matplotlib numpy"
      ]
    },
    {
      "cell_type": "markdown",
      "metadata": {
        "id": "f1JGXZUAJfw3"
      },
      "source": [
        "### ==================================================== #\n",
        "### Table of Contents                  #\n",
        "### ==================================================== #\n",
        "\n",
        "ref : \n",
        "1. https://mofanpy.com/tutorials/machine-learning/torch/torch-numpy\n",
        "\n",
        "2. https://mofanpy.com/tutorials/machine-learning/torch/variable"
      ]
    },
    {
      "cell_type": "markdown",
      "source": [
        "### Pytorch and numpy"
      ],
      "metadata": {
        "id": "V-bBtesIooHX"
      }
    },
    {
      "cell_type": "code",
      "execution_count": 2,
      "metadata": {
        "id": "HEGW7o-8JNmj",
        "colab": {
          "base_uri": "https://localhost:8080/"
        },
        "outputId": "4b3bf09c-4c41-4440-c17a-f7b5d5f5f4be"
      },
      "outputs": [
        {
          "output_type": "stream",
          "name": "stdout",
          "text": [
            "\n",
            "numpy array: [[0 1 2]\n",
            " [3 4 5]] \n",
            "torch tensor: tensor([[0, 1, 2],\n",
            "        [3, 4, 5]]) \n",
            "tensor to array: [[0 1 2]\n",
            " [3 4 5]]\n"
          ]
        }
      ],
      "source": [
        "import torch\n",
        "import numpy as np\n",
        "\n",
        "np_data = np.arange(6).reshape((2, 3))\n",
        "torch_data = torch.from_numpy(np_data)\n",
        "tensor2array = torch_data.numpy()\n",
        "print(\n",
        "    '\\nnumpy array:', np_data,      # [[0 1 2], [3 4 5]]\n",
        "    '\\ntorch tensor:', torch_data,    #  0  1  2 \\n 3  4  5    [torch.LongTensor of size 2x3]\n",
        "    '\\ntensor to array:', tensor2array, # [[0 1 2], [3 4 5]]\n",
        ")"
      ]
    },
    {
      "cell_type": "markdown",
      "source": [
        "### Pytorch math operation"
      ],
      "metadata": {
        "id": "XHJfMv_L2_NU"
      }
    },
    {
      "cell_type": "code",
      "source": [
        "# abs calculation\n",
        "data = [-1, -2, 1, 2]\n",
        "tensor = torch.FloatTensor(data)  # change to float tensor\n",
        "print(\n",
        "    '\\nabs',\n",
        "    '\\nnumpy: ', np.abs(data),        # [1 2 1 2]\n",
        "    '\\ntorch: ', torch.abs(tensor)      # [1 2 1 2]\n",
        ")\n",
        "\n",
        "# sin   三角函数 sin\n",
        "print(\n",
        "    '\\nsin',\n",
        "    '\\nnumpy: ', np.sin(data),      # [-0.84147098 -0.90929743  0.84147098  0.90929743]\n",
        "    '\\ntorch: ', torch.sin(tensor)    # [-0.8415 -0.9093  0.8415  0.9093]\n",
        ")\n",
        "\n",
        "# mean  均值\n",
        "print(\n",
        "    '\\nmean',\n",
        "    '\\nnumpy: ', np.mean(data),      # 0.0\n",
        "    '\\ntorch: ', torch.mean(tensor)    # 0.0\n",
        ")\n"
      ],
      "metadata": {
        "colab": {
          "base_uri": "https://localhost:8080/"
        },
        "id": "vHIch_5z3B6v",
        "outputId": "a9272b1d-41ea-4424-c523-e00dda8a8f24"
      },
      "execution_count": 3,
      "outputs": [
        {
          "output_type": "stream",
          "name": "stdout",
          "text": [
            "\n",
            "abs \n",
            "numpy:  [1 2 1 2] \n",
            "torch:  tensor([1., 2., 1., 2.])\n",
            "\n",
            "sin \n",
            "numpy:  [-0.84147098 -0.90929743  0.84147098  0.90929743] \n",
            "torch:  tensor([-0.8415, -0.9093,  0.8415,  0.9093])\n",
            "\n",
            "mean \n",
            "numpy:  0.0 \n",
            "torch:  tensor(0.)\n"
          ]
        }
      ]
    },
    {
      "cell_type": "markdown",
      "source": [
        "### Matric operation"
      ],
      "metadata": {
        "id": "BAtfm5ge3NuL"
      }
    },
    {
      "cell_type": "code",
      "source": [
        "# matrix multiplication 矩阵点乘\n",
        "data = [[1,2], [3,4]]\n",
        "tensor = torch.FloatTensor(data)  # 转换成32位浮点 tensor\n",
        "# correct method\n",
        "print(\n",
        "    '\\nmatrix multiplication (matmul)',\n",
        "    '\\nnumpy: ', np.matmul(data, data),     # [[7, 10], [15, 22]]\n",
        "    '\\ntorch: ', torch.mm(tensor, tensor)   # [[7, 10], [15, 22]]\n",
        ")\n",
        "\n",
        "# !!!!  下面是错误的方法 !!!!\n",
        "#data = np.array(data)\n",
        "#print(\n",
        "#    '\\nmatrix multiplication (dot)',\n",
        "#    '\\nnumpy: ', data.dot(data),        # [[7, 10], [15, 22]] 在numpy 中可行\n",
        "#    '\\ntorch: ', tensor.dot(tensor)     # torch 会转换成 [1,2,3,4].dot([1,2,3,4) = 30.0\n",
        "#)"
      ],
      "metadata": {
        "id": "kS4KLDqU3PyS",
        "colab": {
          "base_uri": "https://localhost:8080/"
        },
        "outputId": "005800c6-1c8a-4c0e-d742-22cda4c965ec"
      },
      "execution_count": 4,
      "outputs": [
        {
          "output_type": "stream",
          "name": "stdout",
          "text": [
            "\n",
            "matrix multiplication (matmul) \n",
            "numpy:  [[ 7 10]\n",
            " [15 22]] \n",
            "torch:  tensor([[ 7., 10.],\n",
            "        [15., 22.]])\n"
          ]
        }
      ]
    },
    {
      "cell_type": "markdown",
      "source": [
        "# Variable"
      ],
      "metadata": {
        "id": "iRKQkfyS0v9Z"
      }
    },
    {
      "cell_type": "code",
      "source": [
        "import torch\n",
        "from torch.autograd import Variable # torch 中 Variable 模块"
      ],
      "metadata": {
        "id": "adKLo0Ob0uMQ"
      },
      "execution_count": 5,
      "outputs": []
    },
    {
      "cell_type": "code",
      "source": [
        "# 先生鸡蛋\n",
        "tensor = torch.FloatTensor([[1,2],[3,4]])\n",
        "# 把鸡蛋放到篮子里, requires_grad是参不参与误差反向传播, 要不要计算梯度\n",
        "variable = Variable(tensor, requires_grad=True)\n",
        "\n",
        "print(tensor)\n",
        "\"\"\"\n",
        " 1  2\n",
        " 3  4\n",
        "[torch.FloatTensor of size 2x2]\n",
        "\"\"\"\n",
        "\n",
        "print(variable)\n",
        "\"\"\"\n",
        "Variable containing:\n",
        " 1  2\n",
        " 3  4\n",
        "[torch.FloatTensor of size 2x2]\n",
        "\"\"\"\n"
      ],
      "metadata": {
        "colab": {
          "base_uri": "https://localhost:8080/",
          "height": 111
        },
        "id": "B0ojJJds045l",
        "outputId": "82ed5169-1d51-4f97-d403-a65760c03175"
      },
      "execution_count": 6,
      "outputs": [
        {
          "output_type": "stream",
          "name": "stdout",
          "text": [
            "tensor([[1., 2.],\n",
            "        [3., 4.]])\n",
            "tensor([[1., 2.],\n",
            "        [3., 4.]], requires_grad=True)\n"
          ]
        },
        {
          "output_type": "execute_result",
          "data": {
            "text/plain": [
              "'\\nVariable containing:\\n 1  2\\n 3  4\\n[torch.FloatTensor of size 2x2]\\n'"
            ],
            "application/vnd.google.colaboratory.intrinsic+json": {
              "type": "string"
            }
          },
          "metadata": {},
          "execution_count": 6
        }
      ]
    },
    {
      "cell_type": "code",
      "source": [
        "t_out = torch.mean(tensor*tensor)       # x^2\n",
        "v_out = torch.mean(variable*variable)   # x^2\n",
        "print(t_out)\n",
        "print(v_out)    # 7.5"
      ],
      "metadata": {
        "colab": {
          "base_uri": "https://localhost:8080/"
        },
        "id": "WC0lvy511H3o",
        "outputId": "bc6b0408-a17c-4c10-ff97-647a2aa993d6"
      },
      "execution_count": 7,
      "outputs": [
        {
          "output_type": "stream",
          "name": "stdout",
          "text": [
            "tensor(7.5000)\n",
            "tensor(7.5000, grad_fn=<MeanBackward0>)\n"
          ]
        }
      ]
    },
    {
      "cell_type": "code",
      "source": [
        "v_out.backward()    # 模拟 v_out 的误差反向传递\n",
        "\n",
        "# 下面两步看不懂没关系, 只要知道 Variable 是计算图的一部分, 可以用来传递误差就好.\n",
        "# v_out = 1/4 * sum(variable*variable) 这是计算图中的 v_out 计算步骤\n",
        "# 针对于 v_out 的梯度就是, d(v_out)/d(variable) = 1/4*2*variable = variable/2\n",
        "\n",
        "print(variable.grad)    # 初始 Variable 的梯度\n",
        "'''\n",
        " 0.5000  1.0000\n",
        " 1.5000  2.0000\n",
        "'''\n"
      ],
      "metadata": {
        "colab": {
          "base_uri": "https://localhost:8080/",
          "height": 76
        },
        "id": "1AhHFi7b1Qlq",
        "outputId": "20c98a08-3e24-4fc6-e497-4bbf253f6fb8"
      },
      "execution_count": 8,
      "outputs": [
        {
          "output_type": "stream",
          "name": "stdout",
          "text": [
            "tensor([[0.5000, 1.0000],\n",
            "        [1.5000, 2.0000]])\n"
          ]
        },
        {
          "output_type": "execute_result",
          "data": {
            "text/plain": [
              "'\\n 0.5000  1.0000\\n 1.5000  2.0000\\n'"
            ],
            "application/vnd.google.colaboratory.intrinsic+json": {
              "type": "string"
            }
          },
          "metadata": {},
          "execution_count": 8
        }
      ]
    },
    {
      "cell_type": "code",
      "source": [
        "print(variable)     #  Variable 形式\n",
        "\"\"\"\n",
        "Variable containing:\n",
        " 1  2\n",
        " 3  4\n",
        "[torch.FloatTensor of size 2x2]\n",
        "\"\"\"\n",
        "\n",
        "print(variable.data)    # tensor 形式\n",
        "\"\"\"\n",
        " 1  2\n",
        " 3  4\n",
        "[torch.FloatTensor of size 2x2]\n",
        "\"\"\"\n",
        "\n",
        "print(variable.data.numpy())    # numpy 形式\n",
        "\"\"\"\n",
        "[[ 1.  2.]\n",
        " [ 3.  4.]]\n",
        "\"\"\"\n"
      ],
      "metadata": {
        "colab": {
          "base_uri": "https://localhost:8080/",
          "height": 146
        },
        "id": "ghCcDK_r1SbR",
        "outputId": "f3a7f80e-21b7-4863-ee77-9d9f13ff8255"
      },
      "execution_count": 9,
      "outputs": [
        {
          "output_type": "stream",
          "name": "stdout",
          "text": [
            "tensor([[1., 2.],\n",
            "        [3., 4.]], requires_grad=True)\n",
            "tensor([[1., 2.],\n",
            "        [3., 4.]])\n",
            "[[1. 2.]\n",
            " [3. 4.]]\n"
          ]
        },
        {
          "output_type": "execute_result",
          "data": {
            "text/plain": [
              "'\\n[[ 1.  2.]\\n [ 3.  4.]]\\n'"
            ],
            "application/vnd.google.colaboratory.intrinsic+json": {
              "type": "string"
            }
          },
          "metadata": {},
          "execution_count": 9
        }
      ]
    }
  ],
  "metadata": {
    "colab": {
      "provenance": [],
      "toc_visible": true,
      "include_colab_link": true
    },
    "kernelspec": {
      "display_name": "Python 3.8.13 64-bit ('shims')",
      "language": "python",
      "name": "python3"
    },
    "language_info": {
      "name": "python",
      "version": "3.8.13"
    },
    "vscode": {
      "interpreter": {
        "hash": "9ac03a0a6051494cc606d484d27d20fce22fb7b4d169f583271e11d5ba46a56e"
      }
    }
  },
  "nbformat": 4,
  "nbformat_minor": 0
}