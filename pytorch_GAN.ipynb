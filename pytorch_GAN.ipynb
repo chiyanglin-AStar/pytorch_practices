{
  "cells": [
    {
      "cell_type": "markdown",
      "metadata": {
        "id": "view-in-github",
        "colab_type": "text"
      },
      "source": [
        "<a href=\"https://colab.research.google.com/github/chiyanglin-AStar/pytorch_practices/blob/master/pytorch_GAN.ipynb\" target=\"_parent\"><img src=\"https://colab.research.google.com/assets/colab-badge.svg\" alt=\"Open In Colab\"/></a>"
      ]
    },
    {
      "cell_type": "code",
      "execution_count": 1,
      "metadata": {
        "colab": {
          "base_uri": "https://localhost:8080/"
        },
        "id": "kX2CLOjoPSzI",
        "outputId": "9d41fdc4-a5ad-4a3c-f01f-c48db1d79b94"
      },
      "outputs": [
        {
          "output_type": "stream",
          "name": "stdout",
          "text": [
            "Looking in indexes: https://pypi.org/simple, https://us-python.pkg.dev/colab-wheels/public/simple/\n",
            "Requirement already satisfied: torch in /usr/local/lib/python3.7/dist-packages (1.12.1+cu113)\n",
            "Requirement already satisfied: torchvision in /usr/local/lib/python3.7/dist-packages (0.13.1+cu113)\n",
            "Requirement already satisfied: matplotlib in /usr/local/lib/python3.7/dist-packages (3.2.2)\n",
            "Requirement already satisfied: numpy in /usr/local/lib/python3.7/dist-packages (1.21.6)\n",
            "Requirement already satisfied: typing-extensions in /usr/local/lib/python3.7/dist-packages (from torch) (4.1.1)\n",
            "Requirement already satisfied: pillow!=8.3.*,>=5.3.0 in /usr/local/lib/python3.7/dist-packages (from torchvision) (7.1.2)\n",
            "Requirement already satisfied: requests in /usr/local/lib/python3.7/dist-packages (from torchvision) (2.23.0)\n",
            "Requirement already satisfied: pyparsing!=2.0.4,!=2.1.2,!=2.1.6,>=2.0.1 in /usr/local/lib/python3.7/dist-packages (from matplotlib) (3.0.9)\n",
            "Requirement already satisfied: kiwisolver>=1.0.1 in /usr/local/lib/python3.7/dist-packages (from matplotlib) (1.4.4)\n",
            "Requirement already satisfied: python-dateutil>=2.1 in /usr/local/lib/python3.7/dist-packages (from matplotlib) (2.8.2)\n",
            "Requirement already satisfied: cycler>=0.10 in /usr/local/lib/python3.7/dist-packages (from matplotlib) (0.11.0)\n",
            "Requirement already satisfied: six>=1.5 in /usr/local/lib/python3.7/dist-packages (from python-dateutil>=2.1->matplotlib) (1.15.0)\n",
            "Requirement already satisfied: chardet<4,>=3.0.2 in /usr/local/lib/python3.7/dist-packages (from requests->torchvision) (3.0.4)\n",
            "Requirement already satisfied: certifi>=2017.4.17 in /usr/local/lib/python3.7/dist-packages (from requests->torchvision) (2022.9.24)\n",
            "Requirement already satisfied: urllib3!=1.25.0,!=1.25.1,<1.26,>=1.21.1 in /usr/local/lib/python3.7/dist-packages (from requests->torchvision) (1.24.3)\n",
            "Requirement already satisfied: idna<3,>=2.5 in /usr/local/lib/python3.7/dist-packages (from requests->torchvision) (2.10)\n"
          ]
        }
      ],
      "source": [
        "!pip install torch torchvision matplotlib numpy"
      ]
    },
    {
      "cell_type": "markdown",
      "metadata": {
        "id": "f1JGXZUAJfw3"
      },
      "source": [
        "### ==================================================== #\n",
        "### Table of Contents                  #\n",
        "### ==================================================== #\n",
        "\n",
        "ref : \n",
        "1. https://mofanpy.com/tutorials/machine-learning/torch/torch-numpy\n",
        "\n",
        "2. https://mofanpy.com/tutorials/machine-learning/torch/variable"
      ]
    },
    {
      "cell_type": "markdown",
      "source": [
        "### Pytorch and numpy"
      ],
      "metadata": {
        "id": "V-bBtesIooHX"
      }
    },
    {
      "cell_type": "code",
      "execution_count": 2,
      "metadata": {
        "id": "HEGW7o-8JNmj",
        "colab": {
          "base_uri": "https://localhost:8080/"
        },
        "outputId": "35a4a26e-2832-4d11-f1cb-11f5b8f1c8d4"
      },
      "outputs": [
        {
          "output_type": "stream",
          "name": "stdout",
          "text": [
            "\n",
            "numpy array: [[0 1 2]\n",
            " [3 4 5]] \n",
            "torch tensor: tensor([[0, 1, 2],\n",
            "        [3, 4, 5]]) \n",
            "tensor to array: [[0 1 2]\n",
            " [3 4 5]]\n"
          ]
        }
      ],
      "source": [
        "import torch\n",
        "import numpy as np\n",
        "\n",
        "np_data = np.arange(6).reshape((2, 3))\n",
        "torch_data = torch.from_numpy(np_data)\n",
        "tensor2array = torch_data.numpy()\n",
        "print(\n",
        "    '\\nnumpy array:', np_data,      # [[0 1 2], [3 4 5]]\n",
        "    '\\ntorch tensor:', torch_data,    #  0  1  2 \\n 3  4  5    [torch.LongTensor of size 2x3]\n",
        "    '\\ntensor to array:', tensor2array, # [[0 1 2], [3 4 5]]\n",
        ")"
      ]
    },
    {
      "cell_type": "markdown",
      "source": [
        "### Pytorch math operation"
      ],
      "metadata": {
        "id": "XHJfMv_L2_NU"
      }
    },
    {
      "cell_type": "code",
      "source": [
        "# abs calculation\n",
        "data = [-1, -2, 1, 2]\n",
        "tensor = torch.FloatTensor(data)  # change to float tensor\n",
        "print(\n",
        "    '\\nabs',\n",
        "    '\\nnumpy: ', np.abs(data),        # [1 2 1 2]\n",
        "    '\\ntorch: ', torch.abs(tensor)      # [1 2 1 2]\n",
        ")\n",
        "\n",
        "# sin   三角函数 sin\n",
        "print(\n",
        "    '\\nsin',\n",
        "    '\\nnumpy: ', np.sin(data),      # [-0.84147098 -0.90929743  0.84147098  0.90929743]\n",
        "    '\\ntorch: ', torch.sin(tensor)    # [-0.8415 -0.9093  0.8415  0.9093]\n",
        ")\n",
        "\n",
        "# mean  均值\n",
        "print(\n",
        "    '\\nmean',\n",
        "    '\\nnumpy: ', np.mean(data),      # 0.0\n",
        "    '\\ntorch: ', torch.mean(tensor)    # 0.0\n",
        ")\n"
      ],
      "metadata": {
        "colab": {
          "base_uri": "https://localhost:8080/"
        },
        "id": "vHIch_5z3B6v",
        "outputId": "2558c5df-d489-41cb-fb92-598dfa55b784"
      },
      "execution_count": 10,
      "outputs": [
        {
          "output_type": "stream",
          "name": "stdout",
          "text": [
            "\n",
            "abs \n",
            "numpy:  [1 2 1 2] \n",
            "torch:  tensor([1., 2., 1., 2.])\n",
            "\n",
            "sin \n",
            "numpy:  [-0.84147098 -0.90929743  0.84147098  0.90929743] \n",
            "torch:  tensor([-0.8415, -0.9093,  0.8415,  0.9093])\n",
            "\n",
            "mean \n",
            "numpy:  0.0 \n",
            "torch:  tensor(0.)\n"
          ]
        }
      ]
    },
    {
      "cell_type": "markdown",
      "source": [
        "### Matric operation"
      ],
      "metadata": {
        "id": "BAtfm5ge3NuL"
      }
    },
    {
      "cell_type": "code",
      "source": [
        "# matrix multiplication 矩阵点乘\n",
        "data = [[1,2], [3,4]]\n",
        "tensor = torch.FloatTensor(data)  # 转换成32位浮点 tensor\n",
        "# correct method\n",
        "print(\n",
        "    '\\nmatrix multiplication (matmul)',\n",
        "    '\\nnumpy: ', np.matmul(data, data),     # [[7, 10], [15, 22]]\n",
        "    '\\ntorch: ', torch.mm(tensor, tensor)   # [[7, 10], [15, 22]]\n",
        ")\n",
        "\n",
        "# !!!!  下面是错误的方法 !!!!\n",
        "#data = np.array(data)\n",
        "#print(\n",
        "#    '\\nmatrix multiplication (dot)',\n",
        "#    '\\nnumpy: ', data.dot(data),        # [[7, 10], [15, 22]] 在numpy 中可行\n",
        "#    '\\ntorch: ', tensor.dot(tensor)     # torch 会转换成 [1,2,3,4].dot([1,2,3,4) = 30.0\n",
        "#)"
      ],
      "metadata": {
        "id": "kS4KLDqU3PyS",
        "colab": {
          "base_uri": "https://localhost:8080/"
        },
        "outputId": "beb1c8cb-bde3-4704-c4c3-8312b5470dda"
      },
      "execution_count": 12,
      "outputs": [
        {
          "output_type": "stream",
          "name": "stdout",
          "text": [
            "\n",
            "matrix multiplication (matmul) \n",
            "numpy:  [[ 7 10]\n",
            " [15 22]] \n",
            "torch:  tensor([[ 7., 10.],\n",
            "        [15., 22.]])\n"
          ]
        }
      ]
    },
    {
      "cell_type": "markdown",
      "source": [
        "### Preparing your data for training with DataLoaders"
      ],
      "metadata": {
        "id": "PDWjF2GL3euS"
      }
    },
    {
      "cell_type": "code",
      "source": [
        "from torch.utils.data import DataLoader\n",
        "\n",
        "train_dataloader = DataLoader(training_data, batch_size=64, shuffle=True)\n",
        "test_dataloader = DataLoader(test_data, batch_size=64, shuffle=True)"
      ],
      "metadata": {
        "id": "8htGhdpr3gx7"
      },
      "execution_count": null,
      "outputs": []
    },
    {
      "cell_type": "markdown",
      "source": [
        "### Iterate through the DataLoader"
      ],
      "metadata": {
        "id": "4X2WAqw43qAT"
      }
    },
    {
      "cell_type": "code",
      "source": [
        "# Display image and label.\n",
        "train_features, train_labels = next(iter(train_dataloader))\n",
        "print(f\"Feature batch shape: {train_features.size()}\")\n",
        "print(f\"Labels batch shape: {train_labels.size()}\")\n",
        "img = train_features[0].squeeze()\n",
        "label = train_labels[0]\n",
        "plt.imshow(img, cmap=\"gray\")\n",
        "plt.show()\n",
        "print(f\"Label: {label}\")"
      ],
      "metadata": {
        "colab": {
          "base_uri": "https://localhost:8080/",
          "height": 317
        },
        "id": "Q_KTVGsj3mmP",
        "outputId": "b4e97698-e6bf-4ee6-91f2-26f4564adc8d"
      },
      "execution_count": null,
      "outputs": [
        {
          "output_type": "stream",
          "name": "stdout",
          "text": [
            "Feature batch shape: torch.Size([64, 1, 28, 28])\n",
            "Labels batch shape: torch.Size([64])\n"
          ]
        },
        {
          "output_type": "display_data",
          "data": {
            "text/plain": [
              "<Figure size 432x288 with 1 Axes>"
            ],
            "image/png": "[encoded data removed]"
          },
          "metadata": {
            "needs_background": "light"
          }
        },
        {
          "output_type": "stream",
          "name": "stdout",
          "text": [
            "Label: 9\n"
          ]
        }
      ]
    }
  ],
  "metadata": {
    "colab": {
      "provenance": [],
      "toc_visible": true,
      "include_colab_link": true
    },
    "kernelspec": {
      "display_name": "Python 3.8.13 64-bit ('shims')",
      "language": "python",
      "name": "python3"
    },
    "language_info": {
      "name": "python",
      "version": "3.8.13"
    },
    "vscode": {
      "interpreter": {
        "hash": "9ac03a0a6051494cc606d484d27d20fce22fb7b4d169f583271e11d5ba46a56e"
      }
    }
  },
  "nbformat": 4,
  "nbformat_minor": 0
}